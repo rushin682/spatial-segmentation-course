{
 "cells": [
  {
   "cell_type": "markdown",
   "metadata": {},
   "source": [
    "## Need Install Package paths"
   ]
  },
  {
   "cell_type": "markdown",
   "metadata": {},
   "source": [
    "## Begin Tutorial "
   ]
  },
  {
   "cell_type": "code",
   "execution_count": null,
   "metadata": {},
   "outputs": [],
   "source": [
    "import scanpy as sc\n",
    "import numpy as np\n",
    "import pandas as pd\n",
    "from pathlib import Path\n",
    "\n",
    "import spatialdata as sd\n",
    "import spatialdata_plot\n",
    "\n",
    "import sopa\n",
    "\n",
    "# optional: set the parallelization backend to use dask\n",
    "sopa.settings.parallelization_backend = \"dask\""
   ]
  },
  {
   "cell_type": "markdown",
   "metadata": {},
   "source": [
    "## SpatialData (a tool to align and store spatial samples)"
   ]
  },
  {
   "cell_type": "code",
   "execution_count": 2,
   "metadata": {},
   "outputs": [],
   "source": [
    "zarr_path = Path(\"/Users/rushin.gindra/Documents/Research/TeachingCourses/cell_seg/spatialdata-sandbox/xenium_2.0.0_pancreas_io/data.zarr\")"
   ]
  },
  {
   "cell_type": "code",
   "execution_count": null,
   "metadata": {},
   "outputs": [],
   "source": [
    "sdata = sd.read_zarr(zarr_path)"
   ]
  },
  {
   "cell_type": "markdown",
   "metadata": {},
   "source": [
    "## Pancreas Xenium sample"
   ]
  },
  {
   "cell_type": "markdown",
   "metadata": {},
   "source": [
    "### Different components:\n",
    "A SpatialData object is designed to store and manage spatial biological data. It is composed of several key components that allow for comprehensive analysis and visualization of spatial datasets. Below are the main components of a SpatialData object:\n",
    "\n",
    "- **Images (DataArrays)**\n",
    "  - **Description:** The Images component stores the visual data, such as microscopy images or other spatially resolved imaging data.\n",
    "  - **Purpose:** Provides the primary visual data that forms the basis of spatial analysis.\n",
    "  - **Example:** High-resolution microscopy images of tissue sections.\n",
    "\n",
    "- **Labels (DataArrays)**\n",
    "  - **Description:** The Labels component contains categorical or numerical annotations assigned to specific regions or points within the images.\n",
    "  - **Purpose:** Allows for the classification or categorization of spatial features.\n",
    "  - **Example:** Cell type labels assigned to specific regions in an image.\n",
    "\n",
    "- **Points (GeoDataFrame)**\n",
    "  - **Description:** The Points component stores the coordinates of specific points of interest within the spatial data.\n",
    "  - **Purpose:** Identifies precise locations within the images that are relevant for analysis.\n",
    "  - **Example:** Coordinates of cell centroids or specific landmarks.\n",
    "\n",
    "- **Shapes (GeoDataFrame)**\n",
    "  - **Description:** The Shapes component stores geometric shapes that define regions of interest within the spatial data.\n",
    "  - **Purpose:** Allows for the definition of complex regions or boundaries within the images.\n",
    "  - **Example:** Polygon shapes outlining specific tissue regions.\n",
    "\n",
    "- **Tables (AnnData)**\n",
    "  - **Description:** The Tables component contains tabular data associated with the spatial data, such as metadata or feature measurements.\n",
    "  - **Purpose:** Provides additional information or measurements linked to the spatial data.\n",
    "  - **Example:** Gene expression data corresponding to specific cells or regions."
   ]
  },
  {
   "cell_type": "code",
   "execution_count": null,
   "metadata": {},
   "outputs": [],
   "source": [
    "sdata"
   ]
  },
  {
   "cell_type": "markdown",
   "metadata": {},
   "source": [
    "### Basic plotting"
   ]
  },
  {
   "cell_type": "code",
   "execution_count": null,
   "metadata": {},
   "outputs": [],
   "source": [
    "sdata.pl.render_images(\"he_image\").pl.show(coordinate_systems='global', title=\"histology\")"
   ]
  },
  {
   "cell_type": "code",
   "execution_count": null,
   "metadata": {},
   "outputs": [],
   "source": [
    "sdata.pl.render_images(\"morphology_focus\").pl.show(coordinate_systems='global', title=\"morphology\")"
   ]
  },
  {
   "cell_type": "code",
   "execution_count": null,
   "metadata": {},
   "outputs": [],
   "source": [
    "sdata.pl.render_labels('cell_labels').pl.show(coordinate_systems='global', title=\"cell_labels\")"
   ]
  },
  {
   "cell_type": "code",
   "execution_count": null,
   "metadata": {},
   "outputs": [],
   "source": [
    "sdata.pl.render_shapes('cell_circles').pl.show(coordinate_systems='global', title=\"cell_circles\")"
   ]
  },
  {
   "cell_type": "code",
   "execution_count": null,
   "metadata": {},
   "outputs": [],
   "source": [
    "sdata.pl.render_images('he_image')\\\n",
    "    .pl.render_shapes('cell_circles', outline_alpha=0.5, fill_alpha=0.5)\\\n",
    "        .pl.show(coordinate_systems='global', title=\"cell_circles_overlay\")"
   ]
  },
  {
   "cell_type": "code",
   "execution_count": null,
   "metadata": {},
   "outputs": [],
   "source": [
    "sdata.pl.render_images('morphology_focus')\\\n",
    "    .pl.render_shapes('cell_circles', outline_alpha=0.5, fill_alpha=0, outline_color='white')\\\n",
    "        .pl.show(coordinate_systems='global', title=\"cell_circles_dapi_overlay\")"
   ]
  },
  {
   "cell_type": "markdown",
   "metadata": {},
   "source": [
    "## Tissue Segmentation"
   ]
  },
  {
   "cell_type": "code",
   "execution_count": null,
   "metadata": {},
   "outputs": [],
   "source": [
    "sopa.segmentation.tissue(sdata, image_key='he_image')"
   ]
  },
  {
   "cell_type": "code",
   "execution_count": null,
   "metadata": {},
   "outputs": [],
   "source": [
    "sdata"
   ]
  },
  {
   "cell_type": "code",
   "execution_count": null,
   "metadata": {},
   "outputs": [],
   "source": [
    "sdata.pl.render_images('he_image')\\\n",
    "    .pl.render_shapes('region_of_interest', outline_alpha=1.0, fill_alpha=0, outline_color='black')\\\n",
    "        .pl.show(coordinate_systems='global', title=\"Tissue Segmentation\")"
   ]
  },
  {
   "cell_type": "markdown",
   "metadata": {},
   "source": [
    "## Annotating with Napari"
   ]
  },
  {
   "cell_type": "code",
   "execution_count": null,
   "metadata": {},
   "outputs": [],
   "source": [
    "from napari_spatialdata import Interactive\n",
    "\n",
    "interactive = Interactive(sdata)\n",
    "interactive.run()"
   ]
  },
  {
   "cell_type": "code",
   "execution_count": null,
   "metadata": {},
   "outputs": [],
   "source": [
    "sdata"
   ]
  },
  {
   "cell_type": "code",
   "execution_count": null,
   "metadata": {},
   "outputs": [],
   "source": [
    "sdata.pl.render_images('he_image')\\\n",
    "    .pl.render_shapes('annotations', outline_alpha=1.0, fill_alpha=0, outline_color='black')\\\n",
    "        .pl.show(coordinate_systems='global', title=\"Basic Annotation\")"
   ]
  },
  {
   "cell_type": "markdown",
   "metadata": {},
   "source": [
    "## ROI Crop (Optional)"
   ]
  },
  {
   "cell_type": "code",
   "execution_count": null,
   "metadata": {},
   "outputs": [],
   "source": [
    "annotations = sdata.shapes[\"annotations\"]\n",
    "# annotations\n",
    "\n",
    "# Step 1: Extract the polygon from the geodataframe\n",
    "polygon = annotations.geometry.iloc[0]\n",
    "\n",
    "# Step 2: Get the bounds of the polygon\n",
    "min_x, min_y, max_x, max_y = polygon.bounds\n",
    "\n",
    "# Step 3: Print the coordinates\n",
    "print(f\"Minimum X: {min_x}, Maximum X: {max_x}\")\n",
    "print(f\"Minimum Y: {min_y}, Maximum Y: {max_y}\")"
   ]
  },
  {
   "cell_type": "code",
   "execution_count": null,
   "metadata": {},
   "outputs": [],
   "source": [
    "sdata_cropped = sdata.query.bounding_box(\n",
    "    min_coordinate=[min_x, min_y], max_coordinate=[max_x, max_y], axes=(\"x\", \"y\"), target_coordinate_system='global'\n",
    ")\n",
    "\n",
    "sdata_cropped"
   ]
  },
  {
   "cell_type": "code",
   "execution_count": null,
   "metadata": {},
   "outputs": [],
   "source": [
    "sdata_cropped.pl.render_images('he_image', alpha=1.0)\\\n",
    "    .pl.render_shapes('cell_boundaries', outline_alpha=1.0, fill_alpha=0, outline_color='black')\\\n",
    "        .pl.show(coordinate_systems='global', title=\"Basic Annotation\")"
   ]
  },
  {
   "cell_type": "code",
   "execution_count": null,
   "metadata": {},
   "outputs": [],
   "source": [
    "sdata_cropped.tables[\"table\"]"
   ]
  },
  {
   "cell_type": "markdown",
   "metadata": {},
   "source": [
    "## CellPose Segmentation"
   ]
  },
  {
   "cell_type": "code",
   "execution_count": null,
   "metadata": {},
   "outputs": [],
   "source": [
    "sopa.make_image_patches(sdata_cropped, patch_width=512, patch_overlap=0, image_key='morphology_focus')\n",
    "sdata_cropped"
   ]
  },
  {
   "cell_type": "code",
   "execution_count": null,
   "metadata": {},
   "outputs": [],
   "source": [
    "sdata_cropped.pl.render_images('he_image')\\\n",
    "    .pl.render_shapes('image_patches', outline_alpha=1.0, fill_alpha=0, outline_color='black')\\\n",
    "        .pl.show(coordinate_systems='global', title=\"Patching\")"
   ]
  },
  {
   "cell_type": "code",
   "execution_count": null,
   "metadata": {},
   "outputs": [],
   "source": [
    "sopa.utils.get_channel_names(sdata_cropped, image_key='morphology_focus')"
   ]
  },
  {
   "cell_type": "code",
   "execution_count": null,
   "metadata": {},
   "outputs": [],
   "source": [
    "sopa.segmentation.cellpose(sdata_cropped, image_key='morphology_focus', channels=[\"DAPI\"], diameter=30, flow_threshold=2, cellprob_threshold=-6, min_area=400)"
   ]
  },
  {
   "cell_type": "code",
   "execution_count": null,
   "metadata": {},
   "outputs": [],
   "source": [
    "sdata_cropped\n",
    "# Add a comment for \"tab completions\"\n",
    "# Does this work?\n"
   ]
  },
  {
   "cell_type": "code",
   "execution_count": null,
   "metadata": {},
   "outputs": [],
   "source": [
    "sdata_cropped.pl.render_images('he_image').pl.render_shapes('cellpose_boundaries', fill_alpha=0.0, outline_alpha=0.5, outline_color='black').pl.show(title='cellpose')"
   ]
  },
  {
   "cell_type": "code",
   "execution_count": null,
   "metadata": {},
   "outputs": [],
   "source": [
    "sdata_cropped.pl.render_images('he_image').pl.show(title='he only')"
   ]
  },
  {
   "cell_type": "markdown",
   "metadata": {},
   "source": [
    "## Baysor Segmentation (Optional)"
   ]
  },
  {
   "cell_type": "markdown",
   "metadata": {},
   "source": [
    "## ComSeg Segmentation (Optional)"
   ]
  },
  {
   "cell_type": "code",
   "execution_count": null,
   "metadata": {},
   "outputs": [],
   "source": [
    "sdata_cropped.tables['table']"
   ]
  },
  {
   "cell_type": "code",
   "execution_count": null,
   "metadata": {},
   "outputs": [],
   "source": [
    "sopa.make_transcript_patches(\n",
    "    sdata_cropped,\n",
    "    patch_width=400,\n",
    "    patch_overlap=0,\n",
    "    prior_shapes_key=\"cellpose_boundaries\",\n",
    "    write_cells_centroids=True,\n",
    ")"
   ]
  },
  {
   "cell_type": "code",
   "execution_count": null,
   "metadata": {},
   "outputs": [],
   "source": [
    "sdata_cropped"
   ]
  },
  {
   "cell_type": "code",
   "execution_count": null,
   "metadata": {},
   "outputs": [],
   "source": [
    "sdata_cropped.pl.render_images('he_image').pl.render_shapes('transcripts_patches', fill_alpha=0.0, outline_alpha=0.5, outline_color='black').pl.show(title='cellpose')"
   ]
  },
  {
   "cell_type": "code",
   "execution_count": null,
   "metadata": {},
   "outputs": [],
   "source": [
    "sdata_cropped.tables[\"table\"]"
   ]
  },
  {
   "cell_type": "code",
   "execution_count": 28,
   "metadata": {},
   "outputs": [],
   "source": [
    "config = {'dict_scale': {'x': 1, 'y': 1, 'z': 1}, 'mean_cell_diameter': 15, 'max_cell_radius': 15, 'k_nearest_neighbors': 5, 'norm_vector': False, 'alpha': 0.5, 'allow_disconnected_polygon': True, 'min_rna_per_cell': 10, 'gene_column': 'feature_name'}"
   ]
  },
  {
   "cell_type": "code",
   "execution_count": null,
   "metadata": {},
   "outputs": [],
   "source": [
    "sopa.segmentation.comseg(sdata_cropped, config=config)"
   ]
  },
  {
   "cell_type": "code",
   "execution_count": null,
   "metadata": {},
   "outputs": [],
   "source": [
    "sdata_cropped"
   ]
  },
  {
   "cell_type": "code",
   "execution_count": null,
   "metadata": {},
   "outputs": [],
   "source": [
    "sdata_cropped.pl.render_images('he_image').pl.render_shapes('comseg_boundaries', fill_alpha=0.0, outline_alpha=0.5, outline_color='black').pl.show(title='comseg')"
   ]
  },
  {
   "cell_type": "code",
   "execution_count": null,
   "metadata": {},
   "outputs": [],
   "source": [
    "sdata_cropped.pl.render_images('he_image').pl.render_shapes('cellpose_boundaries', fill_alpha=0.0, outline_alpha=0.5, outline_color='black').pl.show(title='cellpose')"
   ]
  },
  {
   "cell_type": "markdown",
   "metadata": {},
   "source": [
    "## Aggregating Transcripts to Cells"
   ]
  },
  {
   "cell_type": "code",
   "execution_count": null,
   "metadata": {},
   "outputs": [],
   "source": [
    "sopa.aggregate(sdata_cropped, aggregate_genes=True, aggregate_channels=True, image_key='morphology_focus', shapes_key=\"cellpose_boundaries\", gene_column=\"feature_name\", min_transcripts=10, key_added='cellpose_table')"
   ]
  },
  {
   "cell_type": "code",
   "execution_count": null,
   "metadata": {},
   "outputs": [],
   "source": [
    "sopa.aggregate(sdata_cropped, aggregate_genes=True, aggregate_channels=True, image_key='morphology_focus', shapes_key=\"comseg_boundaries\", gene_column=\"feature_name\", min_transcripts=10, key_added='comseg_table')"
   ]
  },
  {
   "cell_type": "code",
   "execution_count": null,
   "metadata": {},
   "outputs": [],
   "source": [
    "sdata_cropped.tables[\"cellpose_table\"]"
   ]
  },
  {
   "cell_type": "code",
   "execution_count": null,
   "metadata": {},
   "outputs": [],
   "source": [
    "sdata_cropped.tables[\"comseg_table\"]"
   ]
  },
  {
   "cell_type": "markdown",
   "metadata": {},
   "source": [
    "## Annotating Cells with Tangram (Optional)"
   ]
  },
  {
   "cell_type": "code",
   "execution_count": null,
   "metadata": {},
   "outputs": [],
   "source": [
    "import anndata\n",
    "\n",
    "adata_reference = anndata.read_h5ad(\"adata_reference.h5ad\")\n",
    "\n",
    "sopa.utils.tangram_annotate(sdata_cropped, adata_reference, \"cell_type\")"
   ]
  },
  {
   "cell_type": "markdown",
   "metadata": {},
   "source": [
    "### Staining-based\n",
    "\n",
    "- For now, our fluorescence-based annotation is very simple. We provide a dictionary where a channel is associated with a population. Then, each cell is associated with the cell type whose corresponding channel is the brightest (according to a certain Z-score)."
   ]
  },
  {
   "cell_type": "markdown",
   "metadata": {},
   "source": [
    "## Visualize with Xenium Explorer"
   ]
  },
  {
   "cell_type": "code",
   "execution_count": null,
   "metadata": {},
   "outputs": [],
   "source": [
    "sdata_cropped"
   ]
  },
  {
   "cell_type": "code",
   "execution_count": 44,
   "metadata": {},
   "outputs": [],
   "source": [
    "del sdata_cropped.tables[\"table\"]"
   ]
  },
  {
   "cell_type": "code",
   "execution_count": null,
   "metadata": {},
   "outputs": [],
   "source": [
    "sopa.io.explorer.write(\"crop.explorer\", sdata_cropped, image_key='he_image')"
   ]
  },
  {
   "cell_type": "markdown",
   "metadata": {},
   "source": [
    "### Adding cluster assignments"
   ]
  },
  {
   "cell_type": "code",
   "execution_count": null,
   "metadata": {},
   "outputs": [],
   "source": [
    "adata = sdata_cropped.tables[\"comseg_table\"]\n",
    "adata"
   ]
  },
  {
   "cell_type": "code",
   "execution_count": null,
   "metadata": {},
   "outputs": [],
   "source": [
    "sc.pp.normalize_total(adata)\n",
    "sc.pp.log1p(adata)\n",
    "sc.pp.pca(adata)\n",
    "sc.pp.neighbors(adata)\n",
    "sc.tl.umap(adata)\n",
    "sc.tl.leiden(adata, resolution=0.1)"
   ]
  },
  {
   "cell_type": "code",
   "execution_count": null,
   "metadata": {},
   "outputs": [],
   "source": [
    "sc.pl.umap(adata, color=\"leiden\")\n"
   ]
  },
  {
   "cell_type": "code",
   "execution_count": null,
   "metadata": {},
   "outputs": [],
   "source": [
    "explorer_path = \"crop.explorer\"\n",
    "sopa.io.explorer.write_cell_categories(explorer_path, adata)"
   ]
  },
  {
   "cell_type": "markdown",
   "metadata": {},
   "source": [
    "## Visualize with Napari"
   ]
  },
  {
   "cell_type": "code",
   "execution_count": null,
   "metadata": {},
   "outputs": [],
   "source": [
    "interactive = Interactive(sdata_cropped)\n",
    "interactive.run()"
   ]
  },
  {
   "cell_type": "markdown",
   "metadata": {},
   "source": [
    "## Sample Analysis Report"
   ]
  },
  {
   "cell_type": "code",
   "execution_count": null,
   "metadata": {},
   "outputs": [],
   "source": [
    "sdata_cropped.tables[\"cellpose_table\"]"
   ]
  },
  {
   "cell_type": "code",
   "execution_count": null,
   "metadata": {},
   "outputs": [],
   "source": [
    "sopa.io.write_report(\"report.html\", sdata_cropped)"
   ]
  },
  {
   "cell_type": "markdown",
   "metadata": {},
   "source": []
  },
  {
   "cell_type": "markdown",
   "metadata": {},
   "source": [
    "## Save your zarr file for future analysis"
   ]
  },
  {
   "cell_type": "code",
   "execution_count": null,
   "metadata": {},
   "outputs": [],
   "source": [
    "sdata_cropped.write(\"sdata_cropped.zarr\")"
   ]
  },
  {
   "cell_type": "code",
   "execution_count": null,
   "metadata": {},
   "outputs": [],
   "source": []
  }
 ],
 "metadata": {
  "kernelspec": {
   "display_name": "sopa",
   "language": "python",
   "name": "python3"
  },
  "language_info": {
   "codemirror_mode": {
    "name": "ipython",
    "version": 3
   },
   "file_extension": ".py",
   "mimetype": "text/x-python",
   "name": "python",
   "nbconvert_exporter": "python",
   "pygments_lexer": "ipython3",
   "version": "3.10.16"
  }
 },
 "nbformat": 4,
 "nbformat_minor": 2
}
